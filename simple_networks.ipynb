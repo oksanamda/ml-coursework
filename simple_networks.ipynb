{
  "nbformat": 4,
  "nbformat_minor": 0,
  "metadata": {
    "colab": {
      "provenance": []
    },
    "kernelspec": {
      "name": "python3",
      "display_name": "Python 3"
    },
    "language_info": {
      "name": "python"
    }
  },
  "cells": [
    {
      "cell_type": "markdown",
      "source": [
        "## Импорт библиотек"
      ],
      "metadata": {
        "id": "E9IBY2kOd0cy"
      }
    },
    {
      "cell_type": "code",
      "source": [
        "!pip install pymorphy2"
      ],
      "metadata": {
        "colab": {
          "base_uri": "https://localhost:8080/"
        },
        "id": "7QD5fGDugMdv",
        "outputId": "637c49d9-bce3-4cea-bbea-241d2db508e0"
      },
      "execution_count": 5,
      "outputs": [
        {
          "output_type": "stream",
          "name": "stdout",
          "text": [
            "Collecting pymorphy2\n",
            "  Downloading pymorphy2-0.9.1-py3-none-any.whl (55 kB)\n",
            "\u001b[?25l     \u001b[90m━━━━━━━━━━━━━━━━━━━━━━━━━━━━━━━━━━━━━━━━\u001b[0m \u001b[32m0.0/55.5 kB\u001b[0m \u001b[31m?\u001b[0m eta \u001b[36m-:--:--\u001b[0m\r\u001b[2K     \u001b[90m━━━━━━━━━━━━━━━━━━━━━━━━━━━━━━━━━━━━━━━━\u001b[0m \u001b[32m55.5/55.5 kB\u001b[0m \u001b[31m1.8 MB/s\u001b[0m eta \u001b[36m0:00:00\u001b[0m\n",
            "\u001b[?25hCollecting dawg-python>=0.7.1 (from pymorphy2)\n",
            "  Downloading DAWG_Python-0.7.2-py2.py3-none-any.whl (11 kB)\n",
            "Collecting pymorphy2-dicts-ru<3.0,>=2.4 (from pymorphy2)\n",
            "  Downloading pymorphy2_dicts_ru-2.4.417127.4579844-py2.py3-none-any.whl (8.2 MB)\n",
            "\u001b[2K     \u001b[90m━━━━━━━━━━━━━━━━━━━━━━━━━━━━━━━━━━━━━━━━\u001b[0m \u001b[32m8.2/8.2 MB\u001b[0m \u001b[31m4.7 MB/s\u001b[0m eta \u001b[36m0:00:00\u001b[0m\n",
            "\u001b[?25hCollecting docopt>=0.6 (from pymorphy2)\n",
            "  Downloading docopt-0.6.2.tar.gz (25 kB)\n",
            "  Preparing metadata (setup.py) ... \u001b[?25l\u001b[?25hdone\n",
            "Building wheels for collected packages: docopt\n",
            "  Building wheel for docopt (setup.py) ... \u001b[?25l\u001b[?25hdone\n",
            "  Created wheel for docopt: filename=docopt-0.6.2-py2.py3-none-any.whl size=13706 sha256=ae3acb18aba3d2b44d56851fffce11e3ecb4f9067a33ab2edeabb7802ba81542\n",
            "  Stored in directory: /root/.cache/pip/wheels/fc/ab/d4/5da2067ac95b36618c629a5f93f809425700506f72c9732fac\n",
            "Successfully built docopt\n",
            "Installing collected packages: pymorphy2-dicts-ru, docopt, dawg-python, pymorphy2\n",
            "Successfully installed dawg-python-0.7.2 docopt-0.6.2 pymorphy2-0.9.1 pymorphy2-dicts-ru-2.4.417127.4579844\n"
          ]
        }
      ]
    },
    {
      "cell_type": "code",
      "execution_count": 16,
      "metadata": {
        "colab": {
          "base_uri": "https://localhost:8080/"
        },
        "id": "u8q3uXmEdx4x",
        "outputId": "dafcf6d9-e624-4eb1-8e22-39e735a6b6a8"
      },
      "outputs": [
        {
          "output_type": "stream",
          "name": "stderr",
          "text": [
            "[nltk_data] Downloading package wordnet to /root/nltk_data...\n",
            "[nltk_data]   Package wordnet is already up-to-date!\n",
            "[nltk_data] Downloading package omw-1.4 to /root/nltk_data...\n",
            "[nltk_data]   Package omw-1.4 is already up-to-date!\n",
            "[nltk_data] Downloading package stopwords to /root/nltk_data...\n",
            "[nltk_data]   Package stopwords is already up-to-date!\n",
            "[nltk_data] Downloading package punkt to /root/nltk_data...\n",
            "[nltk_data]   Package punkt is already up-to-date!\n"
          ]
        }
      ],
      "source": [
        "import os.path\n",
        "import pandas as pd\n",
        "import numpy as np\n",
        "import librosa\n",
        "import matplotlib.pyplot as plt\n",
        "import re\n",
        "import pymorphy2\n",
        "import nltk\n",
        "from nltk.stem import WordNetLemmatizer\n",
        "nltk.download(\"wordnet\")\n",
        "nltk.download(\"omw-1.4\")\n",
        "nltk.download('stopwords')\n",
        "nltk.download('punkt')\n",
        "from nltk.tokenize import word_tokenize\n",
        "from string import punctuation\n",
        "import torch\n",
        "import torch.nn as nn\n",
        "import torch.optim as optim\n",
        "from sklearn.feature_extraction.text import TfidfVectorizer\n",
        "from sklearn.model_selection import train_test_split\n",
        "from sklearn.metrics import accuracy_score, f1_score"
      ]
    },
    {
      "cell_type": "markdown",
      "source": [
        "## Импорт данных"
      ],
      "metadata": {
        "id": "efZ-2Tn6d3xS"
      }
    },
    {
      "cell_type": "code",
      "source": [
        "csv_data = pd.read_csv('Data_ASR_2.csv')"
      ],
      "metadata": {
        "id": "z7OKX8P3ekn1"
      },
      "execution_count": 7,
      "outputs": []
    },
    {
      "cell_type": "code",
      "source": [
        "def calc_sentiment_label(row):\n",
        "  if row['sentiment'] > 0:\n",
        "    return 1\n",
        "  elif row['sentiment'] < 0:\n",
        "    return 2 # чтобы не было -1 в лейблах\n",
        "  else:\n",
        "    return 0\n",
        "\n",
        "csv_data['sentiment_label'] = csv_data.apply(calc_sentiment_label, axis=1)"
      ],
      "metadata": {
        "id": "GaXylRU7kR9X"
      },
      "execution_count": 8,
      "outputs": []
    },
    {
      "cell_type": "code",
      "source": [
        "y = csv_data['sentiment_label'].tolist()"
      ],
      "metadata": {
        "id": "deyqI7Z_lDZV"
      },
      "execution_count": 283,
      "outputs": []
    },
    {
      "cell_type": "code",
      "source": [
        "csv_data.sample(3)"
      ],
      "metadata": {
        "colab": {
          "base_uri": "https://localhost:8080/",
          "height": 230
        },
        "id": "b-ncGIKDhf89",
        "outputId": "36288e8e-4437-4d7f-afda-f3323f6bd53b"
      },
      "execution_count": 9,
      "outputs": [
        {
          "output_type": "execute_result",
          "data": {
            "text/plain": [
              "             video  start_time  end_time  sentiment     happy  sad  anger  \\\n",
              "15520  Xq7zLxYHxd8      0.0000    3.9750   0.000000  0.000000  0.0    0.0   \n",
              "12186  JwzxqrD8tIo     28.8160   35.5565   0.000000  0.333333  0.0    0.0   \n",
              "3530        238060    122.6335  131.3350  -0.666667  0.333333  0.0    0.0   \n",
              "\n",
              "       surprise  disgust  fear  \\\n",
              "15520       0.0      0.0   0.0   \n",
              "12186       0.0      0.0   0.0   \n",
              "3530        0.0      0.0   0.0   \n",
              "\n",
              "                                                    text  \\\n",
              "15520  Rhet Rieger White Caspian studios on behalf of...   \n",
              "12186  In fact, just when she's get off the treadmill...   \n",
              "3530    Some people gave it a two, a few people were ...   \n",
              "\n",
              "                                                     ASR  sentiment_label  \n",
              "15520   red ryder white caspian studios on behalf of ...                0  \n",
              "12186   in fact just when she gets off the treadmill ...                0  \n",
              "3530    some people gave it to a few people were gene...                2  "
            ],
            "text/html": [
              "\n",
              "  <div id=\"df-d13e86cf-c48b-4e89-abf8-f18e720c73cc\" class=\"colab-df-container\">\n",
              "    <div>\n",
              "<style scoped>\n",
              "    .dataframe tbody tr th:only-of-type {\n",
              "        vertical-align: middle;\n",
              "    }\n",
              "\n",
              "    .dataframe tbody tr th {\n",
              "        vertical-align: top;\n",
              "    }\n",
              "\n",
              "    .dataframe thead th {\n",
              "        text-align: right;\n",
              "    }\n",
              "</style>\n",
              "<table border=\"1\" class=\"dataframe\">\n",
              "  <thead>\n",
              "    <tr style=\"text-align: right;\">\n",
              "      <th></th>\n",
              "      <th>video</th>\n",
              "      <th>start_time</th>\n",
              "      <th>end_time</th>\n",
              "      <th>sentiment</th>\n",
              "      <th>happy</th>\n",
              "      <th>sad</th>\n",
              "      <th>anger</th>\n",
              "      <th>surprise</th>\n",
              "      <th>disgust</th>\n",
              "      <th>fear</th>\n",
              "      <th>text</th>\n",
              "      <th>ASR</th>\n",
              "      <th>sentiment_label</th>\n",
              "    </tr>\n",
              "  </thead>\n",
              "  <tbody>\n",
              "    <tr>\n",
              "      <th>15520</th>\n",
              "      <td>Xq7zLxYHxd8</td>\n",
              "      <td>0.0000</td>\n",
              "      <td>3.9750</td>\n",
              "      <td>0.000000</td>\n",
              "      <td>0.000000</td>\n",
              "      <td>0.0</td>\n",
              "      <td>0.0</td>\n",
              "      <td>0.0</td>\n",
              "      <td>0.0</td>\n",
              "      <td>0.0</td>\n",
              "      <td>Rhet Rieger White Caspian studios on behalf of...</td>\n",
              "      <td>red ryder white caspian studios on behalf of ...</td>\n",
              "      <td>0</td>\n",
              "    </tr>\n",
              "    <tr>\n",
              "      <th>12186</th>\n",
              "      <td>JwzxqrD8tIo</td>\n",
              "      <td>28.8160</td>\n",
              "      <td>35.5565</td>\n",
              "      <td>0.000000</td>\n",
              "      <td>0.333333</td>\n",
              "      <td>0.0</td>\n",
              "      <td>0.0</td>\n",
              "      <td>0.0</td>\n",
              "      <td>0.0</td>\n",
              "      <td>0.0</td>\n",
              "      <td>In fact, just when she's get off the treadmill...</td>\n",
              "      <td>in fact just when she gets off the treadmill ...</td>\n",
              "      <td>0</td>\n",
              "    </tr>\n",
              "    <tr>\n",
              "      <th>3530</th>\n",
              "      <td>238060</td>\n",
              "      <td>122.6335</td>\n",
              "      <td>131.3350</td>\n",
              "      <td>-0.666667</td>\n",
              "      <td>0.333333</td>\n",
              "      <td>0.0</td>\n",
              "      <td>0.0</td>\n",
              "      <td>0.0</td>\n",
              "      <td>0.0</td>\n",
              "      <td>0.0</td>\n",
              "      <td>Some people gave it a two, a few people were ...</td>\n",
              "      <td>some people gave it to a few people were gene...</td>\n",
              "      <td>2</td>\n",
              "    </tr>\n",
              "  </tbody>\n",
              "</table>\n",
              "</div>\n",
              "    <div class=\"colab-df-buttons\">\n",
              "\n",
              "  <div class=\"colab-df-container\">\n",
              "    <button class=\"colab-df-convert\" onclick=\"convertToInteractive('df-d13e86cf-c48b-4e89-abf8-f18e720c73cc')\"\n",
              "            title=\"Convert this dataframe to an interactive table.\"\n",
              "            style=\"display:none;\">\n",
              "\n",
              "  <svg xmlns=\"http://www.w3.org/2000/svg\" height=\"24px\" viewBox=\"0 -960 960 960\">\n",
              "    <path d=\"M120-120v-720h720v720H120Zm60-500h600v-160H180v160Zm220 220h160v-160H400v160Zm0 220h160v-160H400v160ZM180-400h160v-160H180v160Zm440 0h160v-160H620v160ZM180-180h160v-160H180v160Zm440 0h160v-160H620v160Z\"/>\n",
              "  </svg>\n",
              "    </button>\n",
              "\n",
              "  <style>\n",
              "    .colab-df-container {\n",
              "      display:flex;\n",
              "      gap: 12px;\n",
              "    }\n",
              "\n",
              "    .colab-df-convert {\n",
              "      background-color: #E8F0FE;\n",
              "      border: none;\n",
              "      border-radius: 50%;\n",
              "      cursor: pointer;\n",
              "      display: none;\n",
              "      fill: #1967D2;\n",
              "      height: 32px;\n",
              "      padding: 0 0 0 0;\n",
              "      width: 32px;\n",
              "    }\n",
              "\n",
              "    .colab-df-convert:hover {\n",
              "      background-color: #E2EBFA;\n",
              "      box-shadow: 0px 1px 2px rgba(60, 64, 67, 0.3), 0px 1px 3px 1px rgba(60, 64, 67, 0.15);\n",
              "      fill: #174EA6;\n",
              "    }\n",
              "\n",
              "    .colab-df-buttons div {\n",
              "      margin-bottom: 4px;\n",
              "    }\n",
              "\n",
              "    [theme=dark] .colab-df-convert {\n",
              "      background-color: #3B4455;\n",
              "      fill: #D2E3FC;\n",
              "    }\n",
              "\n",
              "    [theme=dark] .colab-df-convert:hover {\n",
              "      background-color: #434B5C;\n",
              "      box-shadow: 0px 1px 3px 1px rgba(0, 0, 0, 0.15);\n",
              "      filter: drop-shadow(0px 1px 2px rgba(0, 0, 0, 0.3));\n",
              "      fill: #FFFFFF;\n",
              "    }\n",
              "  </style>\n",
              "\n",
              "    <script>\n",
              "      const buttonEl =\n",
              "        document.querySelector('#df-d13e86cf-c48b-4e89-abf8-f18e720c73cc button.colab-df-convert');\n",
              "      buttonEl.style.display =\n",
              "        google.colab.kernel.accessAllowed ? 'block' : 'none';\n",
              "\n",
              "      async function convertToInteractive(key) {\n",
              "        const element = document.querySelector('#df-d13e86cf-c48b-4e89-abf8-f18e720c73cc');\n",
              "        const dataTable =\n",
              "          await google.colab.kernel.invokeFunction('convertToInteractive',\n",
              "                                                    [key], {});\n",
              "        if (!dataTable) return;\n",
              "\n",
              "        const docLinkHtml = 'Like what you see? Visit the ' +\n",
              "          '<a target=\"_blank\" href=https://colab.research.google.com/notebooks/data_table.ipynb>data table notebook</a>'\n",
              "          + ' to learn more about interactive tables.';\n",
              "        element.innerHTML = '';\n",
              "        dataTable['output_type'] = 'display_data';\n",
              "        await google.colab.output.renderOutput(dataTable, element);\n",
              "        const docLink = document.createElement('div');\n",
              "        docLink.innerHTML = docLinkHtml;\n",
              "        element.appendChild(docLink);\n",
              "      }\n",
              "    </script>\n",
              "  </div>\n",
              "\n",
              "\n",
              "<div id=\"df-63bc2410-7227-42fb-9d71-c3a3e6c2080a\">\n",
              "  <button class=\"colab-df-quickchart\" onclick=\"quickchart('df-63bc2410-7227-42fb-9d71-c3a3e6c2080a')\"\n",
              "            title=\"Suggest charts\"\n",
              "            style=\"display:none;\">\n",
              "\n",
              "<svg xmlns=\"http://www.w3.org/2000/svg\" height=\"24px\"viewBox=\"0 0 24 24\"\n",
              "     width=\"24px\">\n",
              "    <g>\n",
              "        <path d=\"M19 3H5c-1.1 0-2 .9-2 2v14c0 1.1.9 2 2 2h14c1.1 0 2-.9 2-2V5c0-1.1-.9-2-2-2zM9 17H7v-7h2v7zm4 0h-2V7h2v10zm4 0h-2v-4h2v4z\"/>\n",
              "    </g>\n",
              "</svg>\n",
              "  </button>\n",
              "\n",
              "<style>\n",
              "  .colab-df-quickchart {\n",
              "      --bg-color: #E8F0FE;\n",
              "      --fill-color: #1967D2;\n",
              "      --hover-bg-color: #E2EBFA;\n",
              "      --hover-fill-color: #174EA6;\n",
              "      --disabled-fill-color: #AAA;\n",
              "      --disabled-bg-color: #DDD;\n",
              "  }\n",
              "\n",
              "  [theme=dark] .colab-df-quickchart {\n",
              "      --bg-color: #3B4455;\n",
              "      --fill-color: #D2E3FC;\n",
              "      --hover-bg-color: #434B5C;\n",
              "      --hover-fill-color: #FFFFFF;\n",
              "      --disabled-bg-color: #3B4455;\n",
              "      --disabled-fill-color: #666;\n",
              "  }\n",
              "\n",
              "  .colab-df-quickchart {\n",
              "    background-color: var(--bg-color);\n",
              "    border: none;\n",
              "    border-radius: 50%;\n",
              "    cursor: pointer;\n",
              "    display: none;\n",
              "    fill: var(--fill-color);\n",
              "    height: 32px;\n",
              "    padding: 0;\n",
              "    width: 32px;\n",
              "  }\n",
              "\n",
              "  .colab-df-quickchart:hover {\n",
              "    background-color: var(--hover-bg-color);\n",
              "    box-shadow: 0 1px 2px rgba(60, 64, 67, 0.3), 0 1px 3px 1px rgba(60, 64, 67, 0.15);\n",
              "    fill: var(--button-hover-fill-color);\n",
              "  }\n",
              "\n",
              "  .colab-df-quickchart-complete:disabled,\n",
              "  .colab-df-quickchart-complete:disabled:hover {\n",
              "    background-color: var(--disabled-bg-color);\n",
              "    fill: var(--disabled-fill-color);\n",
              "    box-shadow: none;\n",
              "  }\n",
              "\n",
              "  .colab-df-spinner {\n",
              "    border: 2px solid var(--fill-color);\n",
              "    border-color: transparent;\n",
              "    border-bottom-color: var(--fill-color);\n",
              "    animation:\n",
              "      spin 1s steps(1) infinite;\n",
              "  }\n",
              "\n",
              "  @keyframes spin {\n",
              "    0% {\n",
              "      border-color: transparent;\n",
              "      border-bottom-color: var(--fill-color);\n",
              "      border-left-color: var(--fill-color);\n",
              "    }\n",
              "    20% {\n",
              "      border-color: transparent;\n",
              "      border-left-color: var(--fill-color);\n",
              "      border-top-color: var(--fill-color);\n",
              "    }\n",
              "    30% {\n",
              "      border-color: transparent;\n",
              "      border-left-color: var(--fill-color);\n",
              "      border-top-color: var(--fill-color);\n",
              "      border-right-color: var(--fill-color);\n",
              "    }\n",
              "    40% {\n",
              "      border-color: transparent;\n",
              "      border-right-color: var(--fill-color);\n",
              "      border-top-color: var(--fill-color);\n",
              "    }\n",
              "    60% {\n",
              "      border-color: transparent;\n",
              "      border-right-color: var(--fill-color);\n",
              "    }\n",
              "    80% {\n",
              "      border-color: transparent;\n",
              "      border-right-color: var(--fill-color);\n",
              "      border-bottom-color: var(--fill-color);\n",
              "    }\n",
              "    90% {\n",
              "      border-color: transparent;\n",
              "      border-bottom-color: var(--fill-color);\n",
              "    }\n",
              "  }\n",
              "</style>\n",
              "\n",
              "  <script>\n",
              "    async function quickchart(key) {\n",
              "      const quickchartButtonEl =\n",
              "        document.querySelector('#' + key + ' button');\n",
              "      quickchartButtonEl.disabled = true;  // To prevent multiple clicks.\n",
              "      quickchartButtonEl.classList.add('colab-df-spinner');\n",
              "      try {\n",
              "        const charts = await google.colab.kernel.invokeFunction(\n",
              "            'suggestCharts', [key], {});\n",
              "      } catch (error) {\n",
              "        console.error('Error during call to suggestCharts:', error);\n",
              "      }\n",
              "      quickchartButtonEl.classList.remove('colab-df-spinner');\n",
              "      quickchartButtonEl.classList.add('colab-df-quickchart-complete');\n",
              "    }\n",
              "    (() => {\n",
              "      let quickchartButtonEl =\n",
              "        document.querySelector('#df-63bc2410-7227-42fb-9d71-c3a3e6c2080a button');\n",
              "      quickchartButtonEl.style.display =\n",
              "        google.colab.kernel.accessAllowed ? 'block' : 'none';\n",
              "    })();\n",
              "  </script>\n",
              "</div>\n",
              "    </div>\n",
              "  </div>\n"
            ],
            "application/vnd.google.colaboratory.intrinsic+json": {
              "type": "dataframe",
              "summary": "{\n  \"name\": \"csv_data\",\n  \"rows\": 3,\n  \"fields\": [\n    {\n      \"column\": \"video\",\n      \"properties\": {\n        \"dtype\": \"string\",\n        \"num_unique_values\": 3,\n        \"samples\": [\n          \"Xq7zLxYHxd8\",\n          \"JwzxqrD8tIo\",\n          \"238060\"\n        ],\n        \"semantic_type\": \"\",\n        \"description\": \"\"\n      }\n    },\n    {\n      \"column\": \"start_time\",\n      \"properties\": {\n        \"dtype\": \"number\",\n        \"std\": 64.12365721076218,\n        \"min\": 0.0,\n        \"max\": 122.6335,\n        \"num_unique_values\": 3,\n        \"samples\": [\n          0.0,\n          28.816,\n          122.6335\n        ],\n        \"semantic_type\": \"\",\n        \"description\": \"\"\n      }\n    },\n    {\n      \"column\": \"end_time\",\n      \"properties\": {\n        \"dtype\": \"number\",\n        \"std\": 66.32179355800022,\n        \"min\": 3.975,\n        \"max\": 131.335,\n        \"num_unique_values\": 3,\n        \"samples\": [\n          3.975,\n          35.5565,\n          131.335\n        ],\n        \"semantic_type\": \"\",\n        \"description\": \"\"\n      }\n    },\n    {\n      \"column\": \"sentiment\",\n      \"properties\": {\n        \"dtype\": \"number\",\n        \"std\": 0.38490019870475944,\n        \"min\": -0.6666667,\n        \"max\": 0.0,\n        \"num_unique_values\": 2,\n        \"samples\": [\n          -0.6666667,\n          0.0\n        ],\n        \"semantic_type\": \"\",\n        \"description\": \"\"\n      }\n    },\n    {\n      \"column\": \"happy\",\n      \"properties\": {\n        \"dtype\": \"number\",\n        \"std\": 0.19245009357887705,\n        \"min\": 0.0,\n        \"max\": 0.33333334,\n        \"num_unique_values\": 2,\n        \"samples\": [\n          0.33333334,\n          0.0\n        ],\n        \"semantic_type\": \"\",\n        \"description\": \"\"\n      }\n    },\n    {\n      \"column\": \"sad\",\n      \"properties\": {\n        \"dtype\": \"number\",\n        \"std\": 0.0,\n        \"min\": 0.0,\n        \"max\": 0.0,\n        \"num_unique_values\": 1,\n        \"samples\": [\n          0.0\n        ],\n        \"semantic_type\": \"\",\n        \"description\": \"\"\n      }\n    },\n    {\n      \"column\": \"anger\",\n      \"properties\": {\n        \"dtype\": \"number\",\n        \"std\": 0.0,\n        \"min\": 0.0,\n        \"max\": 0.0,\n        \"num_unique_values\": 1,\n        \"samples\": [\n          0.0\n        ],\n        \"semantic_type\": \"\",\n        \"description\": \"\"\n      }\n    },\n    {\n      \"column\": \"surprise\",\n      \"properties\": {\n        \"dtype\": \"number\",\n        \"std\": 0.0,\n        \"min\": 0.0,\n        \"max\": 0.0,\n        \"num_unique_values\": 1,\n        \"samples\": [\n          0.0\n        ],\n        \"semantic_type\": \"\",\n        \"description\": \"\"\n      }\n    },\n    {\n      \"column\": \"disgust\",\n      \"properties\": {\n        \"dtype\": \"number\",\n        \"std\": 0.0,\n        \"min\": 0.0,\n        \"max\": 0.0,\n        \"num_unique_values\": 1,\n        \"samples\": [\n          0.0\n        ],\n        \"semantic_type\": \"\",\n        \"description\": \"\"\n      }\n    },\n    {\n      \"column\": \"fear\",\n      \"properties\": {\n        \"dtype\": \"number\",\n        \"std\": 0.0,\n        \"min\": 0.0,\n        \"max\": 0.0,\n        \"num_unique_values\": 1,\n        \"samples\": [\n          0.0\n        ],\n        \"semantic_type\": \"\",\n        \"description\": \"\"\n      }\n    },\n    {\n      \"column\": \"text\",\n      \"properties\": {\n        \"dtype\": \"string\",\n        \"num_unique_values\": 3,\n        \"samples\": [\n          \"Rhet Rieger White Caspian studios on behalf of Expert Village.\"\n        ],\n        \"semantic_type\": \"\",\n        \"description\": \"\"\n      }\n    },\n    {\n      \"column\": \"ASR\",\n      \"properties\": {\n        \"dtype\": \"string\",\n        \"num_unique_values\": 3,\n        \"samples\": [\n          \" red ryder white caspian studios on behalf of expert village\"\n        ],\n        \"semantic_type\": \"\",\n        \"description\": \"\"\n      }\n    },\n    {\n      \"column\": \"sentiment_label\",\n      \"properties\": {\n        \"dtype\": \"number\",\n        \"std\": 1,\n        \"min\": 0,\n        \"max\": 2,\n        \"num_unique_values\": 2,\n        \"samples\": [\n          2\n        ],\n        \"semantic_type\": \"\",\n        \"description\": \"\"\n      }\n    }\n  ]\n}"
            }
          },
          "metadata": {},
          "execution_count": 9
        }
      ]
    },
    {
      "cell_type": "markdown",
      "source": [
        "## Текстовые данные"
      ],
      "metadata": {
        "id": "IaTQyLbdd40E"
      }
    },
    {
      "cell_type": "markdown",
      "source": [
        "### Препроцессинг"
      ],
      "metadata": {
        "id": "DTRFGZUYf-Hu"
      }
    },
    {
      "cell_type": "code",
      "source": [
        "text_data = csv_data['text'].tolist()\n",
        "text_data[0]"
      ],
      "metadata": {
        "colab": {
          "base_uri": "https://localhost:8080/",
          "height": 35
        },
        "id": "gHdODLWvhe_X",
        "outputId": "ecd63b28-90cd-4619-e9f4-b02870f54831"
      },
      "execution_count": 107,
      "outputs": [
        {
          "output_type": "execute_result",
          "data": {
            "text/plain": [
              "'I see that a writer is somebody who has an incredible command of mechanics of the English language.'"
            ],
            "application/vnd.google.colaboratory.intrinsic+json": {
              "type": "string"
            }
          },
          "metadata": {},
          "execution_count": 107
        }
      ]
    },
    {
      "cell_type": "code",
      "source": [
        "def preprocess(string):\n",
        "  result = word_tokenize(string)\n",
        "\n",
        "  punctiations = list(punctuation)\n",
        "  result = [i for i in result if (i not in punctiations)]\n",
        "\n",
        "  result =  [i.lower() for i in result]\n",
        "\n",
        "  stop_words = nltk.corpus.stopwords.words('english')\n",
        "  result = [i for i in result if ( i not in stop_words )]\n",
        "\n",
        "  wnl = WordNetLemmatizer()\n",
        "  result = [wnl.lemmatize(word, pos=\"v\") for word in result]\n",
        "\n",
        "  return ' '.join(result)"
      ],
      "metadata": {
        "id": "J-C0TRUvgAnA"
      },
      "execution_count": 108,
      "outputs": []
    },
    {
      "cell_type": "code",
      "source": [
        "preprocessed_text_data = [preprocess(string) for string in text_data]\n",
        "preprocessed_text_data[0]"
      ],
      "metadata": {
        "colab": {
          "base_uri": "https://localhost:8080/",
          "height": 35
        },
        "id": "aCTeUgpThw-C",
        "outputId": "b2e01b61-839b-413d-a094-534ab779d1d6"
      },
      "execution_count": 109,
      "outputs": [
        {
          "output_type": "execute_result",
          "data": {
            "text/plain": [
              "'see writer somebody incredible command mechanics english language'"
            ],
            "application/vnd.google.colaboratory.intrinsic+json": {
              "type": "string"
            }
          },
          "metadata": {},
          "execution_count": 109
        }
      ]
    },
    {
      "cell_type": "markdown",
      "source": [
        "### Извлечение признаков"
      ],
      "metadata": {
        "id": "6Zwrh9khd9ga"
      }
    },
    {
      "cell_type": "markdown",
      "source": [
        "#### TF-IDF"
      ],
      "metadata": {
        "id": "h3LlEfXUeWsS"
      }
    },
    {
      "cell_type": "code",
      "source": [
        "vectorizer = TfidfVectorizer(max_features=10000)\n",
        "tf_idf_X = vectorizer.fit_transform(np.asarray(preprocessed_text_data)).toarray()"
      ],
      "metadata": {
        "id": "bezkymYfj7Mn"
      },
      "execution_count": 282,
      "outputs": []
    },
    {
      "cell_type": "markdown",
      "source": [
        "### Подготовка к обучению"
      ],
      "metadata": {
        "id": "MH8MTQDQd-4r"
      }
    },
    {
      "cell_type": "code",
      "source": [
        "X_train, X_test, y_train, y_test = train_test_split(tf_idf_X, y, test_size=0.2, random_state=42)"
      ],
      "metadata": {
        "id": "Bya-C-3IlgPp"
      },
      "execution_count": 284,
      "outputs": []
    },
    {
      "cell_type": "markdown",
      "source": [
        "### Нейронная сеть"
      ],
      "metadata": {
        "id": "rkJU2W2hV1u4"
      }
    },
    {
      "cell_type": "code",
      "source": [
        "class TF_IDF_NN(nn.Module):\n",
        "    def __init__(self, input_dim, output_dim, hidden_layers=(128, 64), dropout_rate=0.2):\n",
        "      super(TF_IDF_NN, self).__init__()\n",
        "      self.input_dim = input_dim\n",
        "      self.output_dim = output_dim\n",
        "      self.hidden_layers = hidden_layers\n",
        "      self.dropout_rate = dropout_rate\n",
        "\n",
        "      layers = []\n",
        "      prev_dim = input_dim\n",
        "      for units in hidden_layers:\n",
        "          layers.append(nn.Linear(prev_dim, units))\n",
        "          layers.append(nn.ReLU())\n",
        "          layers.append(nn.Dropout(dropout_rate))\n",
        "          prev_dim = units\n",
        "      layers.append(nn.Linear(prev_dim, output_dim))\n",
        "      layers.append(nn.Softmax(dim=1))\n",
        "\n",
        "      self.model = nn.Sequential(*layers)\n",
        "\n",
        "    def forward(self, x):\n",
        "      return self.model(x)\n",
        "\n",
        "    def train_model(self, X_train, y_train, batch_size=32, epochs=10, lr=0.001):\n",
        "      criterion = nn.CrossEntropyLoss()\n",
        "      optimizer = optim.Adam(self.parameters(), lr=lr)\n",
        "\n",
        "      X_train_tensor = torch.tensor(X_train, dtype=torch.float32)\n",
        "      y_train_tensor = torch.tensor(y_train, dtype=torch.long)\n",
        "\n",
        "      train_dataset = torch.utils.data.TensorDataset(X_train_tensor, y_train_tensor)\n",
        "      train_loader = torch.utils.data.DataLoader(train_dataset, batch_size=batch_size, shuffle=True)\n",
        "\n",
        "      for epoch in range(epochs):\n",
        "        self.train()\n",
        "        running_loss = 0.0\n",
        "        for i, data in enumerate(train_loader, 0):\n",
        "          inputs, labels = data\n",
        "          optimizer.zero_grad()\n",
        "          outputs = self(inputs)\n",
        "          loss = criterion(outputs, labels)\n",
        "          loss.backward()\n",
        "          optimizer.step()\n",
        "          running_loss += loss.item()\n",
        "        print(f'Epoch {epoch + 1}/{epochs}, Loss: {running_loss / len(train_loader)}')\n",
        "\n",
        "    def predict(self, X):\n",
        "      self.eval()\n",
        "      with torch.no_grad():\n",
        "        X_tensor = torch.tensor(X, dtype=torch.float32)\n",
        "        outputs = self(X_tensor)\n",
        "        _, predicted = torch.max(outputs, 1)\n",
        "      return predicted.numpy()"
      ],
      "metadata": {
        "id": "ymWijePGV1GN"
      },
      "execution_count": 287,
      "outputs": []
    },
    {
      "cell_type": "code",
      "source": [
        "model = TF_IDF_NN(input_dim=X_train.shape[1], output_dim=3)\n",
        "model.train_model(X_train, y_train, epochs=10)"
      ],
      "metadata": {
        "colab": {
          "base_uri": "https://localhost:8080/"
        },
        "id": "N4jKj8Vh8cDS",
        "outputId": "90f7c5fa-0288-46dc-ae50-1e4e455c4e9b"
      },
      "execution_count": 288,
      "outputs": [
        {
          "output_type": "stream",
          "name": "stdout",
          "text": [
            "Epoch 1/10, Loss: 0.972075864826281\n",
            "Epoch 2/10, Loss: 0.8766106591396725\n",
            "Epoch 3/10, Loss: 0.8090150558047279\n",
            "Epoch 4/10, Loss: 0.7613757305948186\n",
            "Epoch 5/10, Loss: 0.7334210774333206\n",
            "Epoch 6/10, Loss: 0.7141543867456954\n",
            "Epoch 7/10, Loss: 0.7021271733893562\n",
            "Epoch 8/10, Loss: 0.692619305193629\n",
            "Epoch 9/10, Loss: 0.6851937895787951\n",
            "Epoch 10/10, Loss: 0.6792588582153583\n"
          ]
        }
      ]
    },
    {
      "cell_type": "markdown",
      "source": [
        "### Результаты"
      ],
      "metadata": {
        "id": "JcrnWMNWmMyQ"
      }
    },
    {
      "cell_type": "code",
      "source": [
        "y_pred = model.predict(X_test)\n",
        "f_score = f1_score(y_test, y_pred, average='weighted')\n",
        "print(\"F1:\", f_score)"
      ],
      "metadata": {
        "colab": {
          "base_uri": "https://localhost:8080/"
        },
        "id": "H111z2o-8ho6",
        "outputId": "8aa22811-ec7d-4339-963d-f7ffa30ad4c5"
      },
      "execution_count": 289,
      "outputs": [
        {
          "output_type": "stream",
          "name": "stdout",
          "text": [
            "F1: 0.5675780165738559\n"
          ]
        }
      ]
    },
    {
      "cell_type": "markdown",
      "source": [
        "## Аудио данные"
      ],
      "metadata": {
        "id": "mRb_nziod7x0"
      }
    },
    {
      "cell_type": "code",
      "source": [
        "!unzip WAV_16000.zip"
      ],
      "metadata": {
        "id": "lw7bMcqKfQYg"
      },
      "execution_count": null,
      "outputs": []
    },
    {
      "cell_type": "code",
      "source": [
        "filenames = csv_data[['video', 'start_time', 'end_time']]\n",
        "filenames.head(3)"
      ],
      "metadata": {
        "colab": {
          "base_uri": "https://localhost:8080/",
          "height": 143
        },
        "id": "ye1S1fkoUKGg",
        "outputId": "4bd8bc18-980d-4c2e-fd40-83c12582091d"
      },
      "execution_count": 254,
      "outputs": [
        {
          "output_type": "execute_result",
          "data": {
            "text/plain": [
              "         video  start_time  end_time\n",
              "0  --qXJuDtHPw     23.1990    30.325\n",
              "1  -3g5yACwYnA     82.7645   100.555\n",
              "2  -3g5yACwYnA    119.9190   125.299"
            ],
            "text/html": [
              "\n",
              "  <div id=\"df-b5f33e08-f985-4528-9914-1a93f619bff0\" class=\"colab-df-container\">\n",
              "    <div>\n",
              "<style scoped>\n",
              "    .dataframe tbody tr th:only-of-type {\n",
              "        vertical-align: middle;\n",
              "    }\n",
              "\n",
              "    .dataframe tbody tr th {\n",
              "        vertical-align: top;\n",
              "    }\n",
              "\n",
              "    .dataframe thead th {\n",
              "        text-align: right;\n",
              "    }\n",
              "</style>\n",
              "<table border=\"1\" class=\"dataframe\">\n",
              "  <thead>\n",
              "    <tr style=\"text-align: right;\">\n",
              "      <th></th>\n",
              "      <th>video</th>\n",
              "      <th>start_time</th>\n",
              "      <th>end_time</th>\n",
              "    </tr>\n",
              "  </thead>\n",
              "  <tbody>\n",
              "    <tr>\n",
              "      <th>0</th>\n",
              "      <td>--qXJuDtHPw</td>\n",
              "      <td>23.1990</td>\n",
              "      <td>30.325</td>\n",
              "    </tr>\n",
              "    <tr>\n",
              "      <th>1</th>\n",
              "      <td>-3g5yACwYnA</td>\n",
              "      <td>82.7645</td>\n",
              "      <td>100.555</td>\n",
              "    </tr>\n",
              "    <tr>\n",
              "      <th>2</th>\n",
              "      <td>-3g5yACwYnA</td>\n",
              "      <td>119.9190</td>\n",
              "      <td>125.299</td>\n",
              "    </tr>\n",
              "  </tbody>\n",
              "</table>\n",
              "</div>\n",
              "    <div class=\"colab-df-buttons\">\n",
              "\n",
              "  <div class=\"colab-df-container\">\n",
              "    <button class=\"colab-df-convert\" onclick=\"convertToInteractive('df-b5f33e08-f985-4528-9914-1a93f619bff0')\"\n",
              "            title=\"Convert this dataframe to an interactive table.\"\n",
              "            style=\"display:none;\">\n",
              "\n",
              "  <svg xmlns=\"http://www.w3.org/2000/svg\" height=\"24px\" viewBox=\"0 -960 960 960\">\n",
              "    <path d=\"M120-120v-720h720v720H120Zm60-500h600v-160H180v160Zm220 220h160v-160H400v160Zm0 220h160v-160H400v160ZM180-400h160v-160H180v160Zm440 0h160v-160H620v160ZM180-180h160v-160H180v160Zm440 0h160v-160H620v160Z\"/>\n",
              "  </svg>\n",
              "    </button>\n",
              "\n",
              "  <style>\n",
              "    .colab-df-container {\n",
              "      display:flex;\n",
              "      gap: 12px;\n",
              "    }\n",
              "\n",
              "    .colab-df-convert {\n",
              "      background-color: #E8F0FE;\n",
              "      border: none;\n",
              "      border-radius: 50%;\n",
              "      cursor: pointer;\n",
              "      display: none;\n",
              "      fill: #1967D2;\n",
              "      height: 32px;\n",
              "      padding: 0 0 0 0;\n",
              "      width: 32px;\n",
              "    }\n",
              "\n",
              "    .colab-df-convert:hover {\n",
              "      background-color: #E2EBFA;\n",
              "      box-shadow: 0px 1px 2px rgba(60, 64, 67, 0.3), 0px 1px 3px 1px rgba(60, 64, 67, 0.15);\n",
              "      fill: #174EA6;\n",
              "    }\n",
              "\n",
              "    .colab-df-buttons div {\n",
              "      margin-bottom: 4px;\n",
              "    }\n",
              "\n",
              "    [theme=dark] .colab-df-convert {\n",
              "      background-color: #3B4455;\n",
              "      fill: #D2E3FC;\n",
              "    }\n",
              "\n",
              "    [theme=dark] .colab-df-convert:hover {\n",
              "      background-color: #434B5C;\n",
              "      box-shadow: 0px 1px 3px 1px rgba(0, 0, 0, 0.15);\n",
              "      filter: drop-shadow(0px 1px 2px rgba(0, 0, 0, 0.3));\n",
              "      fill: #FFFFFF;\n",
              "    }\n",
              "  </style>\n",
              "\n",
              "    <script>\n",
              "      const buttonEl =\n",
              "        document.querySelector('#df-b5f33e08-f985-4528-9914-1a93f619bff0 button.colab-df-convert');\n",
              "      buttonEl.style.display =\n",
              "        google.colab.kernel.accessAllowed ? 'block' : 'none';\n",
              "\n",
              "      async function convertToInteractive(key) {\n",
              "        const element = document.querySelector('#df-b5f33e08-f985-4528-9914-1a93f619bff0');\n",
              "        const dataTable =\n",
              "          await google.colab.kernel.invokeFunction('convertToInteractive',\n",
              "                                                    [key], {});\n",
              "        if (!dataTable) return;\n",
              "\n",
              "        const docLinkHtml = 'Like what you see? Visit the ' +\n",
              "          '<a target=\"_blank\" href=https://colab.research.google.com/notebooks/data_table.ipynb>data table notebook</a>'\n",
              "          + ' to learn more about interactive tables.';\n",
              "        element.innerHTML = '';\n",
              "        dataTable['output_type'] = 'display_data';\n",
              "        await google.colab.output.renderOutput(dataTable, element);\n",
              "        const docLink = document.createElement('div');\n",
              "        docLink.innerHTML = docLinkHtml;\n",
              "        element.appendChild(docLink);\n",
              "      }\n",
              "    </script>\n",
              "  </div>\n",
              "\n",
              "\n",
              "<div id=\"df-d09d8c7a-fdad-4d1f-b5fb-73645a599f44\">\n",
              "  <button class=\"colab-df-quickchart\" onclick=\"quickchart('df-d09d8c7a-fdad-4d1f-b5fb-73645a599f44')\"\n",
              "            title=\"Suggest charts\"\n",
              "            style=\"display:none;\">\n",
              "\n",
              "<svg xmlns=\"http://www.w3.org/2000/svg\" height=\"24px\"viewBox=\"0 0 24 24\"\n",
              "     width=\"24px\">\n",
              "    <g>\n",
              "        <path d=\"M19 3H5c-1.1 0-2 .9-2 2v14c0 1.1.9 2 2 2h14c1.1 0 2-.9 2-2V5c0-1.1-.9-2-2-2zM9 17H7v-7h2v7zm4 0h-2V7h2v10zm4 0h-2v-4h2v4z\"/>\n",
              "    </g>\n",
              "</svg>\n",
              "  </button>\n",
              "\n",
              "<style>\n",
              "  .colab-df-quickchart {\n",
              "      --bg-color: #E8F0FE;\n",
              "      --fill-color: #1967D2;\n",
              "      --hover-bg-color: #E2EBFA;\n",
              "      --hover-fill-color: #174EA6;\n",
              "      --disabled-fill-color: #AAA;\n",
              "      --disabled-bg-color: #DDD;\n",
              "  }\n",
              "\n",
              "  [theme=dark] .colab-df-quickchart {\n",
              "      --bg-color: #3B4455;\n",
              "      --fill-color: #D2E3FC;\n",
              "      --hover-bg-color: #434B5C;\n",
              "      --hover-fill-color: #FFFFFF;\n",
              "      --disabled-bg-color: #3B4455;\n",
              "      --disabled-fill-color: #666;\n",
              "  }\n",
              "\n",
              "  .colab-df-quickchart {\n",
              "    background-color: var(--bg-color);\n",
              "    border: none;\n",
              "    border-radius: 50%;\n",
              "    cursor: pointer;\n",
              "    display: none;\n",
              "    fill: var(--fill-color);\n",
              "    height: 32px;\n",
              "    padding: 0;\n",
              "    width: 32px;\n",
              "  }\n",
              "\n",
              "  .colab-df-quickchart:hover {\n",
              "    background-color: var(--hover-bg-color);\n",
              "    box-shadow: 0 1px 2px rgba(60, 64, 67, 0.3), 0 1px 3px 1px rgba(60, 64, 67, 0.15);\n",
              "    fill: var(--button-hover-fill-color);\n",
              "  }\n",
              "\n",
              "  .colab-df-quickchart-complete:disabled,\n",
              "  .colab-df-quickchart-complete:disabled:hover {\n",
              "    background-color: var(--disabled-bg-color);\n",
              "    fill: var(--disabled-fill-color);\n",
              "    box-shadow: none;\n",
              "  }\n",
              "\n",
              "  .colab-df-spinner {\n",
              "    border: 2px solid var(--fill-color);\n",
              "    border-color: transparent;\n",
              "    border-bottom-color: var(--fill-color);\n",
              "    animation:\n",
              "      spin 1s steps(1) infinite;\n",
              "  }\n",
              "\n",
              "  @keyframes spin {\n",
              "    0% {\n",
              "      border-color: transparent;\n",
              "      border-bottom-color: var(--fill-color);\n",
              "      border-left-color: var(--fill-color);\n",
              "    }\n",
              "    20% {\n",
              "      border-color: transparent;\n",
              "      border-left-color: var(--fill-color);\n",
              "      border-top-color: var(--fill-color);\n",
              "    }\n",
              "    30% {\n",
              "      border-color: transparent;\n",
              "      border-left-color: var(--fill-color);\n",
              "      border-top-color: var(--fill-color);\n",
              "      border-right-color: var(--fill-color);\n",
              "    }\n",
              "    40% {\n",
              "      border-color: transparent;\n",
              "      border-right-color: var(--fill-color);\n",
              "      border-top-color: var(--fill-color);\n",
              "    }\n",
              "    60% {\n",
              "      border-color: transparent;\n",
              "      border-right-color: var(--fill-color);\n",
              "    }\n",
              "    80% {\n",
              "      border-color: transparent;\n",
              "      border-right-color: var(--fill-color);\n",
              "      border-bottom-color: var(--fill-color);\n",
              "    }\n",
              "    90% {\n",
              "      border-color: transparent;\n",
              "      border-bottom-color: var(--fill-color);\n",
              "    }\n",
              "  }\n",
              "</style>\n",
              "\n",
              "  <script>\n",
              "    async function quickchart(key) {\n",
              "      const quickchartButtonEl =\n",
              "        document.querySelector('#' + key + ' button');\n",
              "      quickchartButtonEl.disabled = true;  // To prevent multiple clicks.\n",
              "      quickchartButtonEl.classList.add('colab-df-spinner');\n",
              "      try {\n",
              "        const charts = await google.colab.kernel.invokeFunction(\n",
              "            'suggestCharts', [key], {});\n",
              "      } catch (error) {\n",
              "        console.error('Error during call to suggestCharts:', error);\n",
              "      }\n",
              "      quickchartButtonEl.classList.remove('colab-df-spinner');\n",
              "      quickchartButtonEl.classList.add('colab-df-quickchart-complete');\n",
              "    }\n",
              "    (() => {\n",
              "      let quickchartButtonEl =\n",
              "        document.querySelector('#df-d09d8c7a-fdad-4d1f-b5fb-73645a599f44 button');\n",
              "      quickchartButtonEl.style.display =\n",
              "        google.colab.kernel.accessAllowed ? 'block' : 'none';\n",
              "    })();\n",
              "  </script>\n",
              "</div>\n",
              "    </div>\n",
              "  </div>\n"
            ],
            "application/vnd.google.colaboratory.intrinsic+json": {
              "type": "dataframe",
              "variable_name": "filenames",
              "summary": "{\n  \"name\": \"filenames\",\n  \"rows\": 23259,\n  \"fields\": [\n    {\n      \"column\": \"video\",\n      \"properties\": {\n        \"dtype\": \"category\",\n        \"num_unique_values\": 3293,\n        \"samples\": [\n          \"x7ZR70cTa84\",\n          \"x266rUJQC_8\",\n          \"vn0CFvUK5D0\"\n        ],\n        \"semantic_type\": \"\",\n        \"description\": \"\"\n      }\n    },\n    {\n      \"column\": \"start_time\",\n      \"properties\": {\n        \"dtype\": \"number\",\n        \"std\": 75.99216132451853,\n        \"min\": 0.0,\n        \"max\": 904.404943310678,\n        \"num_unique_values\": 18820,\n        \"samples\": [\n          20.421,\n          46.1625,\n          68.815\n        ],\n        \"semantic_type\": \"\",\n        \"description\": \"\"\n      }\n    },\n    {\n      \"column\": \"end_time\",\n      \"properties\": {\n        \"dtype\": \"number\",\n        \"std\": 75.83068813883915,\n        \"min\": 0.286,\n        \"max\": 907.045079365128,\n        \"num_unique_values\": 19826,\n        \"samples\": [\n          129.729,\n          3.2052154195,\n          35.493\n        ],\n        \"semantic_type\": \"\",\n        \"description\": \"\"\n      }\n    }\n  ]\n}"
            }
          },
          "metadata": {},
          "execution_count": 254
        }
      ]
    },
    {
      "cell_type": "markdown",
      "source": [
        "### Извлечение признаков"
      ],
      "metadata": {
        "id": "iAh6VXxWeGtK"
      }
    },
    {
      "cell_type": "markdown",
      "source": [
        "#### MFCC"
      ],
      "metadata": {
        "id": "tGBHbcgLebcP"
      }
    },
    {
      "cell_type": "code",
      "source": [
        "def calculate_mfcc(row, n_mfcc=20, hop_length=512, maxlen=300):\n",
        "    audio_path = row['video']\n",
        "    audio_path = '/content/WAV_16000/' + audio_path + '.wav'\n",
        "\n",
        "    start_time = row['start_time']\n",
        "    end_time = row['end_time']\n",
        "    duration = end_time - start_time\n",
        "    audio, sr = librosa.load(audio_path, offset=start_time, duration=duration, sr=None)\n",
        "\n",
        "    mfcc_features = librosa.feature.mfcc(y=audio, sr=sr, n_mfcc=n_mfcc, hop_length=hop_length)\n",
        "\n",
        "    # приводим к одном длине\n",
        "    if maxlen and mfcc_features.shape[1] > maxlen:\n",
        "      mfcc_features = mfcc_features[:, :maxlen]\n",
        "    elif maxlen and mfcc_features.shape[1] < maxlen:\n",
        "      mfcc_features = np.pad(mfcc_features, ((0, 0), (0, maxlen - mfcc_features.shape[1]) ))\n",
        "    return mfcc_features"
      ],
      "metadata": {
        "id": "ZSWD4Vseekxh"
      },
      "execution_count": 201,
      "outputs": []
    },
    {
      "cell_type": "code",
      "source": [
        "mfcc_features = []\n",
        "for index, row in filenames.iterrows():\n",
        "  mfcc_features.append(calculate_mfcc(row))"
      ],
      "metadata": {
        "id": "2I_a2hF9hanM"
      },
      "execution_count": null,
      "outputs": []
    },
    {
      "cell_type": "markdown",
      "source": [
        "### Подготовка к обучению"
      ],
      "metadata": {
        "id": "UGkuIDguaP-q"
      }
    },
    {
      "cell_type": "code",
      "source": [
        "X_train, X_test, y_train, y_test = train_test_split(X, y, test_size=0.2, random_state=42)"
      ],
      "metadata": {
        "id": "T5I3mvyXZEGo"
      },
      "execution_count": 233,
      "outputs": []
    },
    {
      "cell_type": "markdown",
      "source": [
        "### Нейронная сеть"
      ],
      "metadata": {
        "id": "Rn7lFEgLTwQC"
      }
    },
    {
      "cell_type": "code",
      "source": [
        "class MFCC_NN(nn.Module):\n",
        "    def __init__(self, input_dim, output_dim, hidden_layers=(128, 64), dropout_rate=0.2):\n",
        "      super(MFCC_NN, self).__init__()\n",
        "      self.input_dim = input_dim\n",
        "      self.output_dim = output_dim\n",
        "      self.hidden_layers = hidden_layers\n",
        "      self.dropout_rate = dropout_rate\n",
        "\n",
        "      layers = []\n",
        "      prev_dim = input_dim\n",
        "      for units in hidden_layers:\n",
        "          layers.append(nn.Linear(prev_dim, units))\n",
        "          layers.append(nn.ReLU())\n",
        "          layers.append(nn.Dropout(dropout_rate))\n",
        "          prev_dim = units\n",
        "      layers.append(nn.Linear(prev_dim, output_dim))\n",
        "      layers.append(nn.Softmax(dim=1))\n",
        "\n",
        "      self.model = nn.Sequential(*layers)\n",
        "      self.sigmoid = nn.Sigmoid()\n",
        "\n",
        "    def forward(self, x):\n",
        "      x = self.model(x)\n",
        "      x = self.sigmoid(x)\n",
        "      return x\n",
        "\n",
        "    def train_model(self, X_train, y_train, batch_size=32, epochs=10, lr=0.001):\n",
        "      criterion = nn.CrossEntropyLoss()\n",
        "      optimizer = optim.Adam(self.parameters(), lr=lr)\n",
        "\n",
        "      X_train_tensor = torch.tensor(X_train, dtype=torch.float32)\n",
        "      y_train_tensor = torch.tensor(y_train, dtype=torch.long)\n",
        "\n",
        "      train_dataset = torch.utils.data.TensorDataset(X_train_tensor, y_train_tensor)\n",
        "      train_loader = torch.utils.data.DataLoader(train_dataset, batch_size=batch_size, shuffle=True)\n",
        "\n",
        "      for epoch in range(epochs):\n",
        "        self.train()\n",
        "        running_loss = 0.0\n",
        "        for i, data in enumerate(train_loader, 0):\n",
        "          inputs, labels = data\n",
        "          optimizer.zero_grad()\n",
        "          outputs = self(inputs)\n",
        "          _, predicted = torch.max(outputs, 1)\n",
        "          loss = criterion(predicted, labels)\n",
        "          loss.backward()\n",
        "          optimizer.step()\n",
        "          running_loss += loss.item()\n",
        "\n",
        "        print(f'Epoch {epoch + 1}/{epochs}, Loss: {running_loss / len(train_loader)}')\n",
        "\n",
        "    def predict(self, X):\n",
        "      self.eval()\n",
        "      with torch.no_grad():\n",
        "        X_tensor = torch.tensor(X, dtype=torch.float32)\n",
        "        outputs = self(X_tensor)\n",
        "        _, predicted = torch.max(outputs, 1)\n",
        "      return predicted.numpy()"
      ],
      "metadata": {
        "id": "b9uBsTcRWwhG"
      },
      "execution_count": 206,
      "outputs": []
    },
    {
      "cell_type": "code",
      "source": [
        "model = MFCC_NN(input_dim=X_train.shape[1], output_dim=3)\n",
        "model.train_model(X_train, y_train, epochs=10)"
      ],
      "metadata": {
        "colab": {
          "base_uri": "https://localhost:8080/"
        },
        "id": "Z9TMkK0do8Gn",
        "outputId": "86fedf52-53d9-4583-aacd-aecdc0e8a70c"
      },
      "execution_count": 280,
      "outputs": [
        {
          "output_type": "stream",
          "name": "stdout",
          "text": [
            "Epoch 1/10, Loss: 0.9932601799352975\n",
            "Epoch 2/10, Loss: 0.9522696561454447\n",
            "Epoch 3/10, Loss: 0.893428182101837\n",
            "Epoch 4/10, Loss: 0.8137438933950435\n",
            "Epoch 5/10, Loss: 0.7990680043614886\n",
            "Epoch 6/10, Loss: 0.7440440214147467\n",
            "Epoch 7/10, Loss: 0.7276648837498956\n",
            "Epoch 8/10, Loss: 0.7193072193753713\n",
            "Epoch 9/10, Loss: 0.7089996109526046\n",
            "Epoch 10/10, Loss: 0.7012024551072361\n"
          ]
        }
      ]
    },
    {
      "cell_type": "markdown",
      "source": [
        "### Результаты"
      ],
      "metadata": {
        "id": "Glem29p3Txr3"
      }
    },
    {
      "cell_type": "code",
      "source": [
        "y_pred = model.predict(X_test)\n",
        "f_score = f1_score(y_test, y_pred, average='weighted')\n",
        "print(\"F1:\", f_score)"
      ],
      "metadata": {
        "colab": {
          "base_uri": "https://localhost:8080/"
        },
        "id": "AbMGJavtnLp4",
        "outputId": "d1f6086f-db78-4019-abee-5479fd734306"
      },
      "execution_count": 253,
      "outputs": [
        {
          "output_type": "stream",
          "name": "stdout",
          "text": [
            "F1: 0.4910878346170084\n"
          ]
        }
      ]
    }
  ]
}